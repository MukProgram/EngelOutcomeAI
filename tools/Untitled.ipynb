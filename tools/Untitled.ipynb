{
 "cells": [
  {
   "cell_type": "code",
   "execution_count": 4,
   "id": "53602003-cb49-4255-b0dd-94acb58d4086",
   "metadata": {},
   "outputs": [
    {
     "name": "stdout",
     "output_type": "stream",
     "text": [
      "Collecting anthropic\n",
      "  Downloading anthropic-0.37.1-py3-none-any.whl.metadata (21 kB)\n",
      "Requirement already satisfied: anyio<5,>=3.5.0 in /opt/anaconda3/lib/python3.12/site-packages (from anthropic) (4.2.0)\n",
      "Requirement already satisfied: distro<2,>=1.7.0 in /opt/anaconda3/lib/python3.12/site-packages (from anthropic) (1.9.0)\n",
      "Requirement already satisfied: httpx<1,>=0.23.0 in /opt/anaconda3/lib/python3.12/site-packages (from anthropic) (0.27.0)\n",
      "Collecting jiter<1,>=0.4.0 (from anthropic)\n",
      "  Downloading jiter-0.6.1-cp312-cp312-macosx_11_0_arm64.whl.metadata (5.2 kB)\n",
      "Requirement already satisfied: pydantic<3,>=1.9.0 in /opt/anaconda3/lib/python3.12/site-packages (from anthropic) (2.5.3)\n",
      "Requirement already satisfied: sniffio in /opt/anaconda3/lib/python3.12/site-packages (from anthropic) (1.3.0)\n",
      "Collecting tokenizers>=0.13.0 (from anthropic)\n",
      "  Downloading tokenizers-0.20.1-cp312-cp312-macosx_11_0_arm64.whl.metadata (6.7 kB)\n",
      "Requirement already satisfied: typing-extensions<5,>=4.7 in /opt/anaconda3/lib/python3.12/site-packages (from anthropic) (4.11.0)\n",
      "Requirement already satisfied: idna>=2.8 in /opt/anaconda3/lib/python3.12/site-packages (from anyio<5,>=3.5.0->anthropic) (3.7)\n",
      "Requirement already satisfied: certifi in /opt/anaconda3/lib/python3.12/site-packages (from httpx<1,>=0.23.0->anthropic) (2024.8.30)\n",
      "Requirement already satisfied: httpcore==1.* in /opt/anaconda3/lib/python3.12/site-packages (from httpx<1,>=0.23.0->anthropic) (1.0.2)\n",
      "Requirement already satisfied: h11<0.15,>=0.13 in /opt/anaconda3/lib/python3.12/site-packages (from httpcore==1.*->httpx<1,>=0.23.0->anthropic) (0.14.0)\n",
      "Requirement already satisfied: annotated-types>=0.4.0 in /opt/anaconda3/lib/python3.12/site-packages (from pydantic<3,>=1.9.0->anthropic) (0.6.0)\n",
      "Requirement already satisfied: pydantic-core==2.14.6 in /opt/anaconda3/lib/python3.12/site-packages (from pydantic<3,>=1.9.0->anthropic) (2.14.6)\n",
      "Requirement already satisfied: huggingface-hub<1.0,>=0.16.4 in /opt/anaconda3/lib/python3.12/site-packages (from tokenizers>=0.13.0->anthropic) (0.26.1)\n",
      "Requirement already satisfied: filelock in /opt/anaconda3/lib/python3.12/site-packages (from huggingface-hub<1.0,>=0.16.4->tokenizers>=0.13.0->anthropic) (3.13.1)\n",
      "Requirement already satisfied: fsspec>=2023.5.0 in /opt/anaconda3/lib/python3.12/site-packages (from huggingface-hub<1.0,>=0.16.4->tokenizers>=0.13.0->anthropic) (2024.3.1)\n",
      "Requirement already satisfied: packaging>=20.9 in /opt/anaconda3/lib/python3.12/site-packages (from huggingface-hub<1.0,>=0.16.4->tokenizers>=0.13.0->anthropic) (23.2)\n",
      "Requirement already satisfied: pyyaml>=5.1 in /opt/anaconda3/lib/python3.12/site-packages (from huggingface-hub<1.0,>=0.16.4->tokenizers>=0.13.0->anthropic) (6.0.1)\n",
      "Requirement already satisfied: requests in /opt/anaconda3/lib/python3.12/site-packages (from huggingface-hub<1.0,>=0.16.4->tokenizers>=0.13.0->anthropic) (2.32.2)\n",
      "Requirement already satisfied: tqdm>=4.42.1 in /opt/anaconda3/lib/python3.12/site-packages (from huggingface-hub<1.0,>=0.16.4->tokenizers>=0.13.0->anthropic) (4.66.4)\n",
      "Requirement already satisfied: charset-normalizer<4,>=2 in /opt/anaconda3/lib/python3.12/site-packages (from requests->huggingface-hub<1.0,>=0.16.4->tokenizers>=0.13.0->anthropic) (2.0.4)\n",
      "Requirement already satisfied: urllib3<3,>=1.21.1 in /opt/anaconda3/lib/python3.12/site-packages (from requests->huggingface-hub<1.0,>=0.16.4->tokenizers>=0.13.0->anthropic) (2.2.2)\n",
      "Downloading anthropic-0.37.1-py3-none-any.whl (945 kB)\n",
      "\u001b[2K   \u001b[90m━━━━━━━━━━━━━━━━━━━━━━━━━━━━━━━━━━━━━━━━\u001b[0m \u001b[32m946.0/946.0 kB\u001b[0m \u001b[31m9.0 MB/s\u001b[0m eta \u001b[36m0:00:00\u001b[0ma \u001b[36m0:00:01\u001b[0m\n",
      "\u001b[?25hDownloading jiter-0.6.1-cp312-cp312-macosx_11_0_arm64.whl (300 kB)\n",
      "\u001b[2K   \u001b[90m━━━━━━━━━━━━━━━━━━━━━━━━━━━━━━━━━━━━━━━━\u001b[0m \u001b[32m300.9/300.9 kB\u001b[0m \u001b[31m15.8 MB/s\u001b[0m eta \u001b[36m0:00:00\u001b[0m\n",
      "\u001b[?25hDownloading tokenizers-0.20.1-cp312-cp312-macosx_11_0_arm64.whl (2.6 MB)\n",
      "\u001b[2K   \u001b[90m━━━━━━━━━━━━━━━━━━━━━━━━━━━━━━━━━━━━━━━━\u001b[0m \u001b[32m2.6/2.6 MB\u001b[0m \u001b[31m15.5 MB/s\u001b[0m eta \u001b[36m0:00:00\u001b[0m00:01\u001b[0m00:01\u001b[0m\n",
      "\u001b[?25hInstalling collected packages: jiter, tokenizers, anthropic\n",
      "Successfully installed anthropic-0.37.1 jiter-0.6.1 tokenizers-0.20.1\n"
     ]
    }
   ],
   "source": [
    "!pip install anthropic"
   ]
  },
  {
   "cell_type": "code",
   "execution_count": 6,
   "id": "dd90d5fd-4811-429d-b87e-2c597ba521ea",
   "metadata": {},
   "outputs": [
    {
     "ename": "ValueError",
     "evalue": "Please set the ANTHROPIC_API_KEY environment variable.",
     "output_type": "error",
     "traceback": [
      "\u001b[0;31m---------------------------------------------------------------------------\u001b[0m",
      "\u001b[0;31mValueError\u001b[0m                                Traceback (most recent call last)",
      "Cell \u001b[0;32mIn[6], line 18\u001b[0m\n\u001b[1;32m     16\u001b[0m API_KEY \u001b[38;5;241m=\u001b[39m os\u001b[38;5;241m.\u001b[39menviron\u001b[38;5;241m.\u001b[39mget(\u001b[38;5;124m'\u001b[39m\u001b[38;5;124mANTHROPIC_API_KEY\u001b[39m\u001b[38;5;124m'\u001b[39m)\n\u001b[1;32m     17\u001b[0m \u001b[38;5;28;01mif\u001b[39;00m \u001b[38;5;129;01mnot\u001b[39;00m API_KEY:\n\u001b[0;32m---> 18\u001b[0m     \u001b[38;5;28;01mraise\u001b[39;00m \u001b[38;5;167;01mValueError\u001b[39;00m(\u001b[38;5;124m\"\u001b[39m\u001b[38;5;124mPlease set the ANTHROPIC_API_KEY environment variable.\u001b[39m\u001b[38;5;124m\"\u001b[39m)\n\u001b[1;32m     20\u001b[0m \u001b[38;5;66;03m# Initialize the Anthropic client\u001b[39;00m\n\u001b[1;32m     21\u001b[0m client \u001b[38;5;241m=\u001b[39m anthropic\u001b[38;5;241m.\u001b[39mClient(api_key\u001b[38;5;241m=\u001b[39mAPI_KEY)\n",
      "\u001b[0;31mValueError\u001b[0m: Please set the ANTHROPIC_API_KEY environment variable."
     ]
    }
   ],
   "source": [
    "\"\"\"\n",
    "This script processes epilepsy clinical notes and prompts Claude to generate an Engel score based on each note.\n",
    "Claude is further instructed to provide a detailed explanation for the generated Engel score, disregarding the typical post-surgical context of Engel scoring.\n",
    "The script reads clinical notes from an input directory, sends each note to Claude for scoring, and saves the outputs, including explanations, to an output directory.\n",
    "\"\"\"\n",
    "\n",
    "import os\n",
    "import anthropic\n",
    "import logging\n",
    "import time\n",
    "\n",
    "# Set up logging\n",
    "logging.basicConfig(level=logging.INFO, format='%(levelname)s: %(message)s')\n",
    "\n",
    "# Retrieve the Anthropic API key from an environment variable\n",
    "API_KEY = os.environ.get('ANTHROPIC_API_KEY')\n",
    "if not API_KEY:\n",
    "    raise ValueError(\"Please set the ANTHROPIC_API_KEY environment variable.\")\n",
    "\n",
    "# Initialize the Anthropic client\n",
    "client = anthropic.Client(api_key=API_KEY)\n",
    "\n",
    "# Directories for input notes and output files\n",
    "input_dir = 'clinical_notes/'\n",
    "output_dir = 'outputs/'\n",
    "\n",
    "# Create the output directory if it doesn't exist\n",
    "os.makedirs(output_dir, exist_ok=True)\n",
    "\n",
    "# List all clinical note files in the input directory\n",
    "note_files = os.listdir(input_dir)\n",
    "\n",
    "for note_file in note_files:\n",
    "    try:\n",
    "        # Construct full file paths\n",
    "        input_path = os.path.join(input_dir, note_file)\n",
    "        output_path = os.path.join(output_dir, f'output_{note_file}')\n",
    "\n",
    "        # Read the clinical note content\n",
    "        with open(input_path, 'r', encoding='utf-8') as f:\n",
    "            clinical_note = f.read()\n",
    "\n",
    "        # Create the prompt for Claude\n",
    "        prompt = f\"\"\"{anthropic.HUMAN_PROMPT} Please read the following clinical note and generate a plausible Engel score with a detailed explanation for your choice. Ignore the fact that the patient is not post-surgery; instead, provide the probable Engel Score based on the clinical note.\n",
    "\n",
    "Clinical Note:\n",
    "{clinical_note}\n",
    "\n",
    "{anthropic.AI_PROMPT}\"\"\"\n",
    "\n",
    "        # Call the Claude API\n",
    "        response = client.completion(\n",
    "            prompt=prompt,\n",
    "            model=\"claude-1\",  # Update to the specific model you have access to\n",
    "            max_tokens_to_sample=2000,  # Allows for longer responses\n",
    "            temperature=0.7,  # Moderate temperature for balanced output\n",
    "            stop_sequences=[anthropic.HUMAN_PROMPT],\n",
    "        )\n",
    "\n",
    "        # Extract the completion text\n",
    "        output_text = response['completion'].strip()\n",
    "\n",
    "        # Save the output to a file\n",
    "        with open(output_path, 'w', encoding='utf-8') as f:\n",
    "            f.write(output_text)\n",
    "\n",
    "        logging.info(f\"Processed '{note_file}' and saved the output to '{output_path}'.\")\n",
    "\n",
    "        # Optional: Pause between requests to respect rate limits\n",
    "        time.sleep(1)  # Adjust the sleep time as needed\n",
    "\n",
    "    except Exception as e:\n",
    "        logging.error(f\"Failed to process '{note_file}': {e}\")\n"
   ]
  },
  {
   "cell_type": "code",
   "execution_count": null,
   "id": "c5be1a03-dc44-454f-b324-c8f56769b2b8",
   "metadata": {},
   "outputs": [],
   "source": []
  }
 ],
 "metadata": {
  "kernelspec": {
   "display_name": "Python 3 (ipykernel)",
   "language": "python",
   "name": "python3"
  },
  "language_info": {
   "codemirror_mode": {
    "name": "ipython",
    "version": 3
   },
   "file_extension": ".py",
   "mimetype": "text/x-python",
   "name": "python",
   "nbconvert_exporter": "python",
   "pygments_lexer": "ipython3",
   "version": "3.12.4"
  }
 },
 "nbformat": 4,
 "nbformat_minor": 5
}
